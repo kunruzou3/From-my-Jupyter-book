{
 "cells": [
  {
   "cell_type": "code",
   "execution_count": null,
   "id": "1ed4cb06",
   "metadata": {},
   "outputs": [],
   "source": [
    "import os\n",
    "import sys\n",
    "\n",
    "import kodo\n",
    "\n",
    "# Choose the finite field, the number of symbols (i.e. generation size)\n",
    "# and the symbol size in bytes\n",
    "field = kodo.field.binary\n",
    "symbols = 42\n",
    "symbol_size = 160\n",
    "\n",
    "# Create an encoder and two decoders\n",
    "encoder = kodo.RLNCEncoder(field, symbols, symbol_size)\n",
    "decoder1 = kodo.RLNCDecoder(field, symbols, symbol_size)\n",
    "decoder2 = kodo.RLNCDecoder(field, symbols, symbol_size)\n",
    "\n",
    "# Generate some random data to encode. We create a bytearray of the same\n",
    "# size as the encoder's block size and assign it to the encoder.\n",
    "# This bytearray must not go out of scope while the encoder exists!\n",
    "data_in = bytearray(os.urandom(encoder.block_size()))\n",
    "encoder.set_symbols_storage(data_in)\n",
    "\n",
    "# Define the data_out bytearrays where the symbols should be decoded\n",
    "# These bytearrays must not go out of scope while the encoder exists!\n",
    "data_out1 = bytearray(decoder1.block_size())\n",
    "data_out2 = bytearray(decoder1.block_size())\n",
    "decoder1.set_symbols_storage(data_out1)\n",
    "decoder2.set_symbols_storage(data_out2)\n",
    "\n",
    "while not decoder2.is_complete():\n",
    "\n",
    "    # Encode a packet into the payload buffer\n",
    "    packet = encoder.produce_payload()\n",
    "\n",
    "    # Pass that packet to decoder1\n",
    "    decoder1.consume_payload(packet)\n",
    "\n",
    "    # Now produce a new recoded packet from the current\n",
    "    # decoding buffer, and place it into the payload buffer\n",
    "    packet = decoder1.produce_payload()\n",
    "\n",
    "    # Pass the recoded packet to decoder2\n",
    "    decoder2.consume_payload(packet)\n",
    "\n",
    "# Both decoder1 and decoder2 should now be complete,\n",
    "# check if the output buffers match the data_in buffer\n",
    "if data_out1 == data_in and data_out2 == data_in:\n",
    "    print(\"Data decoded correctly\")\n",
    "else:\n",
    "    print(\"Unexpected failure to decode please file a bug report :)\")\n",
    "    sys.exit(1)"
   ]
  }
 ],
 "metadata": {
  "kernelspec": {
   "display_name": "Python 3 (ipykernel)",
   "language": "python",
   "name": "python3"
  },
  "language_info": {
   "codemirror_mode": {
    "name": "ipython",
    "version": 3
   },
   "file_extension": ".py",
   "mimetype": "text/x-python",
   "name": "python",
   "nbconvert_exporter": "python",
   "pygments_lexer": "ipython3",
   "version": "3.9.13"
  }
 },
 "nbformat": 4,
 "nbformat_minor": 5
}
